{
 "cells": [
  {
   "cell_type": "code",
   "execution_count": 10,
   "metadata": {},
   "outputs": [],
   "source": [
    "import numpy as np\n",
    "import matplotlib.pyplot as plt\n",
    "import os.path\n",
    "from sklearn.metrics import silhouette_score, calinski_harabasz_score\n",
    "from KMeans_Clustering import kmeans_pp, kmeans_clustering_sklearn"
   ]
  },
  {
   "cell_type": "code",
   "execution_count": 7,
   "metadata": {},
   "outputs": [
    {
     "name": "stdout",
     "output_type": "stream",
     "text": [
      "(750, 297)\n"
     ]
    }
   ],
   "source": [
    "X = np.load(os.path.join(os.path.abspath(\"résultats\"),\"Features_matrix_1(scaled).npy\"))\n",
    "print(X.shape)"
   ]
  },
  {
   "cell_type": "code",
   "execution_count": 8,
   "metadata": {},
   "outputs": [],
   "source": [
    "n_clusters_max = 20\n",
    "n_clusters_min = 4\n",
    "n_clusters_array = np.arange(n_clusters_max-1)+ n_clusters_min\n",
    "lc = n_clusters_array.shape[0]\n",
    "silhouette_score_array = np.zeros(lc)\n",
    "calinski_harabasz_score_array = np.zeros(lc)"
   ]
  },
  {
   "cell_type": "markdown",
   "metadata": {},
   "source": [
    "## Distance euclidienne"
   ]
  },
  {
   "cell_type": "code",
   "execution_count": null,
   "metadata": {},
   "outputs": [],
   "source": [
    "metric_ = \"euclidean\"\n",
    "n_init = 3\n",
    "\n",
    "for k in n_clusters_array:\n",
    "#     classes = kmeans_clustering_sklearn(X,k)\n",
    "    classes = kmeans_pp(X,k,n_init,metric_)\n",
    "    silhouette_score_array[k-n_clusters_min] = silhouette_score(X,classes)\n",
    "    calinski_harabasz_score_array[k-n_clusters_min] = calinski_harabasz_score(X,classes)"
   ]
  },
  {
   "cell_type": "code",
   "execution_count": null,
   "metadata": {},
   "outputs": [],
   "source": [
    "np.save(os.path.join(os.path.abspath(\"résultats\"),\"Silhouette_score_kmeans(euclidean)\"), silhouette_score_array)"
   ]
  },
  {
   "cell_type": "code",
   "execution_count": null,
   "metadata": {},
   "outputs": [],
   "source": [
    "plt.figure(figsize=(20,6))\n",
    "ax1 = plt.subplot(1,2,1)\n",
    "ax1.plot(n_clusters_array, silhouette_score_array)\n",
    "ax1.set_title(\"Silhouette_score vs number of clusters\")\n",
    "ax2 = plt.subplot(1,2,2)\n",
    "ax2.plot(n_clusters_array, calinski_harabasz_score_array)\n",
    "ax2.set_title(\"Calinski_harabasz_score vs number of clusters\")\n",
    "plt.show()"
   ]
  },
  {
   "cell_type": "markdown",
   "metadata": {},
   "source": [
    "## Distance Manhattan"
   ]
  },
  {
   "cell_type": "code",
   "execution_count": null,
   "metadata": {},
   "outputs": [],
   "source": [
    "metric_ = \"manhattan\"\n",
    "n_init = 3\n",
    "\n",
    "for k in n_clusters_array:\n",
    "    classes = kmeans_pp(X,k,n_init,metric_)\n",
    "    silhouette_score_array[k-n_clusters_min] = silhouette_score(X,classes)\n",
    "    calinski_harabasz_score_array[k-n_clusters_min] = calinski_harabasz_score(X,classes)"
   ]
  },
  {
   "cell_type": "code",
   "execution_count": null,
   "metadata": {},
   "outputs": [],
   "source": [
    "np.save(os.path.join(os.path.abspath(\"résultats\"),\"Silhouette_score_kmeans(manhattan)\"), silhouette_score_array)"
   ]
  },
  {
   "cell_type": "code",
   "execution_count": null,
   "metadata": {},
   "outputs": [],
   "source": [
    "plt.figure(figsize=(20,6))\n",
    "ax1 = plt.subplot(1,2,1)\n",
    "ax1.plot(n_clusters_array, silhouette_score_array)\n",
    "ax1.set_title(\"Silhouette_score vs number of clusters\")\n",
    "ax2 = plt.subplot(1,2,2)\n",
    "ax2.plot(n_clusters_array, calinski_harabasz_score_array)\n",
    "ax2.set_title(\"Calinski_harabasz_score vs number of clusters\")\n",
    "plt.show()"
   ]
  },
  {
   "cell_type": "markdown",
   "metadata": {},
   "source": [
    "## Distance Cosine"
   ]
  },
  {
   "cell_type": "code",
   "execution_count": null,
   "metadata": {},
   "outputs": [],
   "source": [
    "metric_ = \"cosine\"\n",
    "n_init = 3\n",
    "\n",
    "for k in n_clusters_array:\n",
    "    classes = kmeans_pp(X,k,n_init,metric_)\n",
    "    silhouette_score_array[k-n_clusters_min] = silhouette_score(X,classes)\n",
    "    calinski_harabasz_score_array[k-n_clusters_min] = calinski_harabasz_score(X,classes)"
   ]
  },
  {
   "cell_type": "code",
   "execution_count": null,
   "metadata": {},
   "outputs": [],
   "source": [
    "np.save(os.path.join(os.path.abspath(\"résultats\"),\"Silhouette_score_kmeans(cosine)\"), silhouette_score_array)"
   ]
  },
  {
   "cell_type": "code",
   "execution_count": null,
   "metadata": {},
   "outputs": [],
   "source": [
    "plt.figure(figsize=(20,6))\n",
    "ax1 = plt.subplot(1,2,1)\n",
    "ax1.plot(n_clusters_array, silhouette_score_array)\n",
    "ax1.set_title(\"Silhouette_score vs number of clusters\")\n",
    "ax2 = plt.subplot(1,2,2)\n",
    "ax2.plot(n_clusters_array, calinski_harabasz_score_array)\n",
    "ax2.set_title(\"Calinski_harabasz_score vs number of clusters\")\n",
    "plt.show()"
   ]
  },
  {
   "cell_type": "markdown",
   "metadata": {},
   "source": [
    "## Distance Chebyshev"
   ]
  },
  {
   "cell_type": "code",
   "execution_count": null,
   "metadata": {},
   "outputs": [],
   "source": [
    "metric_ = \"cosine\"\n",
    "n_init = 3\n",
    "\n",
    "for k in n_clusters_array:\n",
    "    classes = kmeans_pp(X,k,n_init,metric_)\n",
    "    silhouette_score_array[k-n_clusters_min] = silhouette_score(X,classes)\n",
    "    calinski_harabasz_score_array[k-n_clusters_min] = calinski_harabasz_score(X,classes)"
   ]
  },
  {
   "cell_type": "code",
   "execution_count": null,
   "metadata": {},
   "outputs": [],
   "source": [
    "np.save(os.path.join(os.path.abspath(\"résultats\"),\"Silhouette_score_kmeans(chebyscheb)\"), silhouette_score_array)"
   ]
  },
  {
   "cell_type": "code",
   "execution_count": null,
   "metadata": {},
   "outputs": [],
   "source": [
    "plt.figure(figsize=(20,6))\n",
    "ax1 = plt.subplot(1,2,1)\n",
    "ax1.plot(n_clusters_array, silhouette_score_array)\n",
    "ax1.set_title(\"Silhouette_score vs number of clusters\")\n",
    "ax2 = plt.subplot(1,2,2)\n",
    "ax2.plot(n_clusters_array, calinski_harabasz_score_array)\n",
    "ax2.set_title(\"Calinski_harabasz_score vs number of clusters\")\n",
    "plt.show()"
   ]
  }
 ],
 "metadata": {
  "kernelspec": {
   "display_name": "Python 3",
   "language": "python",
   "name": "python3"
  },
  "language_info": {
   "codemirror_mode": {
    "name": "ipython",
    "version": 3
   },
   "file_extension": ".py",
   "mimetype": "text/x-python",
   "name": "python",
   "nbconvert_exporter": "python",
   "pygments_lexer": "ipython3",
   "version": "3.7.3"
  }
 },
 "nbformat": 4,
 "nbformat_minor": 2
}
