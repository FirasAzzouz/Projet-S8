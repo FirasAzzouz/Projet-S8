{
 "cells": [
  {
   "cell_type": "code",
   "execution_count": 10,
   "metadata": {},
   "outputs": [],
   "source": [
    "import numpy as np\n",
    "import matplotlib.pyplot as plt\n",
    "import os.path\n",
    "from sklearn.metrics import silhouette_score, calinski_harabasz_score\n",
    "from KMeans_Clustering import kmeans_pp, kmeans_clustering_sklearn"
   ]
  },
  {
   "cell_type": "code",
   "execution_count": 7,
   "metadata": {},
   "outputs": [
    {
     "name": "stdout",
     "output_type": "stream",
     "text": [
      "(750, 297)\n"
     ]
    }
   ],
   "source": [
    "X = np.load(os.path.join(os.path.abspath(\"résultats\"),\"Features_matrix_1(scaled).npy\"))\n",
    "print(X.shape)"
   ]
  },
  {
   "cell_type": "code",
   "execution_count": 8,
   "metadata": {},
   "outputs": [],
   "source": [
    "n_clusters_max = 20\n",
    "n_clusters_min = 4\n",
    "n_clusters_array = np.arange(n_clusters_max-1)+ n_clusters_min\n",
    "lc = n_clusters_array.shape[0]\n",
    "silhouette_score_array = np.zeros(lc)\n",
    "calinski_harabasz_score_array = np.zeros(lc)"
   ]
  },
  {
   "cell_type": "markdown",
   "metadata": {},
   "source": [
    "## Distance euclidienne"
   ]
  },
  {
   "cell_type": "code",
   "execution_count": null,
   "metadata": {},
   "outputs": [
    {
     "name": "stdout",
     "output_type": "stream",
     "text": [
      "4 12.345196070821244 {0: 168.0, 1: 180.0, 2: 263.0, 3: 139.0}\n",
      "5 12.345065162183252 {0: 2.0, 1: 203.0, 2: 143.0, 3: 50.0, 4: 352.0}\n",
      "6 11.90725540459789 {0: 134.0, 1: 126.0, 2: 117.0, 3: 92.0, 4: 37.0, 5: 244.0}\n",
      "7 12.104426617912535 {0: 63.0, 1: 17.0, 2: 129.0, 3: 135.0, 4: 3.0, 5: 265.0, 6: 138.0}\n",
      "8 11.80465824427709 {0: 53.0, 1: 84.0, 2: 71.0, 3: 87.0, 4: 75.0, 5: 104.0, 6: 228.0, 7: 48.0}\n",
      "9 11.786087932092515 {0: 104.0, 1: 104.0, 2: 222.0, 3: 73.0, 4: 52.0, 5: 74.0, 6: 44.0, 7: 68.0, 8: 9.0}\n",
      "10 11.762077719343928 {0: 58.0, 1: 158.0, 2: 1.0, 3: 59.0, 4: 219.0, 5: 31.0, 6: 57.0, 7: 42.0, 8: 121.0, 9: 4.0}\n",
      "11 11.62612704349021 {0: 48.0, 1: 2.0, 2: 139.0, 3: 64.0, 4: 47.0, 5: 48.0, 6: 63.0, 7: 65.0, 8: 46.0, 9: 155.0, 10: 73.0}\n"
     ]
    }
   ],
   "source": [
    "metric_ = \"euclidean\"\n",
    "n_init = 3\n",
    "\n",
    "for k in n_clusters_array:\n",
    "#     classes = kmeans_clustering_sklearn(X,k)\n",
    "    classes = kmeans_pp(X,k,n_init,metric_)\n",
    "    silhouette_score_array[k] = silhouette_score(X,classes)\n",
    "    calinski_harabasz_score_array[k] = calinski_harabasz_score(X,classes)"
   ]
  },
  {
   "cell_type": "code",
   "execution_count": null,
   "metadata": {},
   "outputs": [],
   "source": [
    "np.save(os.path.join(os.path.abspath(\"résultats\"),\"Silhouette_score_kmeans(euclidean)\"), silhouette_score_array)"
   ]
  },
  {
   "cell_type": "code",
   "execution_count": null,
   "metadata": {},
   "outputs": [],
   "source": [
    "plt.figure(figsize=(20,6))\n",
    "ax1 = plt.subplot(1,2,1)\n",
    "ax1.plot(n_clusters_array, silhouette_score_array)\n",
    "ax1.set_title(\"Silhouette_score vs number of clusters\")\n",
    "ax2 = plt.subplot(1,2,2)\n",
    "ax2.plot(n_clusters_array, calinski_harabasz_score_array)\n",
    "ax2.set_title(\"Calinski_harabasz_score vs number of clusters\")\n",
    "plt.show()"
   ]
  },
  {
   "cell_type": "markdown",
   "metadata": {},
   "source": [
    "## Distance Manhattan"
   ]
  },
  {
   "cell_type": "code",
   "execution_count": null,
   "metadata": {},
   "outputs": [],
   "source": [
    "metric_ = \"manhattan\"\n",
    "n_init = 3\n",
    "\n",
    "for k in n_clusters_array:\n",
    "    classes = kmeans_pp(X,k,n_init,metric_)\n",
    "    silhouette_score_array[k] = silhouette_score(X,classes)\n",
    "    calinski_harabasz_score_array[k] = calinski_harabasz_score(X,classes)"
   ]
  },
  {
   "cell_type": "code",
   "execution_count": null,
   "metadata": {},
   "outputs": [],
   "source": [
    "np.save(os.path.join(os.path.abspath(\"résultats\"),\"Silhouette_score_kmeans(manhattan)\"), silhouette_score_array)"
   ]
  },
  {
   "cell_type": "code",
   "execution_count": null,
   "metadata": {},
   "outputs": [],
   "source": [
    "plt.figure(figsize=(20,6))\n",
    "ax1 = plt.subplot(1,2,1)\n",
    "ax1.plot(n_clusters_array, silhouette_score_array)\n",
    "ax1.set_title(\"Silhouette_score vs number of clusters\")\n",
    "ax2 = plt.subplot(1,2,2)\n",
    "ax2.plot(n_clusters_array, calinski_harabasz_score_array)\n",
    "ax2.set_title(\"Calinski_harabasz_score vs number of clusters\")\n",
    "plt.show()"
   ]
  },
  {
   "cell_type": "markdown",
   "metadata": {},
   "source": [
    "## Distance Cosine"
   ]
  },
  {
   "cell_type": "code",
   "execution_count": null,
   "metadata": {},
   "outputs": [],
   "source": [
    "metric_ = \"cosine\"\n",
    "n_init = 3\n",
    "\n",
    "for k in n_clusters_array:\n",
    "    classes = kmeans_pp(X,k,n_init,metric_)\n",
    "    silhouette_score_array[k] = silhouette_score(X,classes)\n",
    "    calinski_harabasz_score_array[k] = calinski_harabasz_score(X,classes)"
   ]
  },
  {
   "cell_type": "code",
   "execution_count": null,
   "metadata": {},
   "outputs": [],
   "source": [
    "np.save(os.path.join(os.path.abspath(\"résultats\"),\"Silhouette_score_kmeans(cosine)\"), silhouette_score_array)"
   ]
  },
  {
   "cell_type": "code",
   "execution_count": null,
   "metadata": {},
   "outputs": [],
   "source": [
    "plt.figure(figsize=(20,6))\n",
    "ax1 = plt.subplot(1,2,1)\n",
    "ax1.plot(n_clusters_array, silhouette_score_array)\n",
    "ax1.set_title(\"Silhouette_score vs number of clusters\")\n",
    "ax2 = plt.subplot(1,2,2)\n",
    "ax2.plot(n_clusters_array, calinski_harabasz_score_array)\n",
    "ax2.set_title(\"Calinski_harabasz_score vs number of clusters\")\n",
    "plt.show()"
   ]
  },
  {
   "cell_type": "markdown",
   "metadata": {},
   "source": [
    "## Distance Chebyshev"
   ]
  },
  {
   "cell_type": "code",
   "execution_count": null,
   "metadata": {},
   "outputs": [],
   "source": [
    "metric_ = \"cosine\"\n",
    "n_init = 3\n",
    "\n",
    "for k in n_clusters_array:\n",
    "    classes = kmeans_pp(X,k,n_init,metric_)\n",
    "    silhouette_score_array[k] = silhouette_score(X,classes)\n",
    "    calinski_harabasz_score_array[k] = calinski_harabasz_score(X,classes)"
   ]
  },
  {
   "cell_type": "code",
   "execution_count": null,
   "metadata": {},
   "outputs": [],
   "source": [
    "np.save(os.path.join(os.path.abspath(\"résultats\"),\"Silhouette_score_kmeans(chebyscheb)\"), silhouette_score_array)"
   ]
  },
  {
   "cell_type": "code",
   "execution_count": null,
   "metadata": {},
   "outputs": [],
   "source": [
    "plt.figure(figsize=(20,6))\n",
    "ax1 = plt.subplot(1,2,1)\n",
    "ax1.plot(n_clusters_array, silhouette_score_array)\n",
    "ax1.set_title(\"Silhouette_score vs number of clusters\")\n",
    "ax2 = plt.subplot(1,2,2)\n",
    "ax2.plot(n_clusters_array, calinski_harabasz_score_array)\n",
    "ax2.set_title(\"Calinski_harabasz_score vs number of clusters\")\n",
    "plt.show()"
   ]
  }
 ],
 "metadata": {
  "kernelspec": {
   "display_name": "Python 3",
   "language": "python",
   "name": "python3"
  },
  "language_info": {
   "codemirror_mode": {
    "name": "ipython",
    "version": 3
   },
   "file_extension": ".py",
   "mimetype": "text/x-python",
   "name": "python",
   "nbconvert_exporter": "python",
   "pygments_lexer": "ipython3",
   "version": "3.7.3"
  }
 },
 "nbformat": 4,
 "nbformat_minor": 2
}
