{
 "cells": [
  {
   "cell_type": "markdown",
   "metadata": {},
   "source": [
    "Un regroupement des caractéristiques obtenues est effectué sur une collection d'images définie par (n1,n2).\n",
    "L'algorithme du clustering est le k-means avec une distance euclidienne.\n",
    "Les résultats sont évalués à l'aide de métriques comme l'adjusted rand score."
   ]
  },
  {
   "cell_type": "code",
   "execution_count": 20,
   "metadata": {},
   "outputs": [
    {
     "name": "stdout",
     "output_type": "stream",
     "text": [
      "Number of images= 120\n",
      "Number of features= 179\n",
      "\n",
      "\n",
      "**************Clustering_results*********************\n",
      "adjusted_rand_score=0.82\n",
      "homogeneity_score=0.96\n",
      "completeness_score=0.98\n",
      "v_measure_score=0.97\n",
      "fowlkes_mallows_score=0.83\n",
      "\n",
      "\n"
     ]
    }
   ],
   "source": [
    "import numpy as np\n",
    "import matplotlib.pyplot as plt\n",
    "from sklearn import metrics\n",
    "from Image_reading import read_image\n",
    "from Color_descriptors import *\n",
    "from Shape_descriptors import fft_shape\n",
    "from Texture_descriptors import lbp\n",
    "\n",
    "from Clustering import clustering_kmeans\n",
    "\n",
    "\n",
    "if __name__ == '__main__':\n",
    "    n1=300\n",
    "    n2=340\n",
    "    n_clusters_=n2-n1\n",
    "    color_space='hsv'\n",
    "    bins=[4,4,4]\n",
    "    n_colors=8\n",
    "    distances=[1,4,9]\n",
    "    n_fft=64\n",
    "    hist_size_lbp=100\n",
    "    \n",
    "    classes_true=[]\n",
    "    for i in range(0,n2-n1):\n",
    "        classes_true=classes_true+[i]*3\n",
    "    classes_true=np.array(classes_true)\n",
    "    \n",
    "    X_all=[]\n",
    "    for i in range(3*(n2-n1)):\n",
    "        X_all.append([])\n",
    "    \n",
    "    for i in range(n2-n1):\n",
    "        for j in range(3):\n",
    "            X=read_image(i+n1,j)\n",
    "            # ********************Color_features***********************\n",
    "            moments_ftr=moments_calcul(X,color_space)\n",
    "            X_all[3*i+j]=X_all[3*i+j]+[moments_ftr]\n",
    "            \n",
    "            hist= color_histogram(X,color_space,bins)\n",
    "            # hist=histogram_filter(hist)\n",
    "            # hist=histogram_normalization(hist)\n",
    "            X_all[3*i+j]=X_all[3*i+j]+[hist]\n",
    "            \n",
    "            \"\"\"\n",
    "            # ********************Shape_features***********************\n",
    "            shape_fft=fft_shape(X,n_fft)\n",
    "            X_all[3*i+j]=X_all[3*i+j]+[shape_fft]\n",
    "            \n",
    "            \"\"\"\n",
    "            # ********************Texture_features***********************\n",
    "            lbp_feature=lbp(X,hist_size_lbp)\n",
    "            X_all[3*i+j]=X_all[3*i+j]+[lbp_feature]\n",
    "            \n",
    "            \n",
    "            \n",
    "            X_all[3*i+j]=np.concatenate(X_all[3*i+j])\n",
    "    \n",
    "    X_all=np.array(X_all).astype(float)\n",
    "    print(\"Number of images= \"+ str(X_all.shape[0]))\n",
    "    print(\"Number of features= \"+ str(X_all.shape[1]))\n",
    "    print(\"\\n\")\n",
    "    \n",
    "    # ********************Clustering************************\n",
    "    classes=clustering_kmeans(X_all,n_clusters_)\n",
    "    \n",
    "    \n",
    "    print(\"**************Clustering_results*********************\")\n",
    "    print('adjusted_rand_score=%0.2f' % metrics.adjusted_rand_score(classes_true,classes))\n",
    "    # print('normalized_mutual_info_score=%0.2f' % metrics.normalized_mutual_info_score(classes_true,classes))\n",
    "    print('homogeneity_score=%0.2f' % metrics.homogeneity_score(classes_true,classes))\n",
    "    print('completeness_score=%0.2f' % metrics.completeness_score(classes_true,classes))\n",
    "    print('v_measure_score=%0.2f' % metrics.v_measure_score(classes_true,classes))\n",
    "    print('fowlkes_mallows_score=%0.2f' % metrics.fowlkes_mallows_score(classes_true,classes))\n",
    "    print(\"\\n\")\n"
   ]
  },
  {
   "cell_type": "code",
   "execution_count": null,
   "metadata": {},
   "outputs": [],
   "source": []
  }
 ],
 "metadata": {
  "kernelspec": {
   "display_name": "Python 3",
   "language": "python",
   "name": "python3"
  },
  "language_info": {
   "codemirror_mode": {
    "name": "ipython",
    "version": 3
   },
   "file_extension": ".py",
   "mimetype": "text/x-python",
   "name": "python",
   "nbconvert_exporter": "python",
   "pygments_lexer": "ipython3",
   "version": "3.7.1"
  }
 },
 "nbformat": 4,
 "nbformat_minor": 2
}
