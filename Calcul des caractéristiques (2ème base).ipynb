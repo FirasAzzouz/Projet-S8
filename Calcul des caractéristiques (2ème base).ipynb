{
 "cells": [
  {
   "cell_type": "code",
   "execution_count": 28,
   "metadata": {},
   "outputs": [],
   "source": [
    "import numpy as np\n",
    "import matplotlib.pyplot as plt\n",
    "import scipy.io\n",
    "import os.path\n",
    "from sklearn.preprocessing import StandardScaler\n",
    "from sklearn.manifold import TSNE\n",
    "\n",
    "from Image_reading import *\n",
    "from Color_descriptors import *\n",
    "from Shape_descriptors import concatShapeFeatures\n",
    "from Texture_descriptors import lbp"
   ]
  },
  {
   "cell_type": "code",
   "execution_count": 45,
   "metadata": {},
   "outputs": [
    {
     "name": "stdout",
     "output_type": "stream",
     "text": [
      "[ 1  1  1  1  1  1  1  1  1  1  1  1  1  1  1  1  1  1  1  1  1  1  1  1\n",
      "  1  1  1  1  1  1  2  2  2  2  2  2  2  2  2  2  2  2  2  2  2  2  2  2\n",
      "  2  2  2  2  2  2  2  2  2  2  2  2  3  3  3  3  3  3  3  3  3  3  3  3\n",
      "  3  3  3  3  3  3  3  3  3  3  3  3  3  3  3  3  3  3  4  4  4  4  4  4\n",
      "  4  4  4  4  4  4  4  4  4  4  4  4  4  4  4  4  4  4  4  4  4  4  4  4\n",
      "  5  5  5  5  5  5  5  5  5  5  5  5  5  5  5  5  5  5  5  5  5  5  5  5\n",
      "  5  5  5  5  5  5  6  6  6  6  6  6  6  6  6  6  6  6  6  6  6  6  6  6\n",
      "  6  6  6  6  6  6  6  6  6  6  6  6  7  7  7  7  7  7  7  7  7  7  7  7\n",
      "  7  7  7  7  7  7  7  7  7  7  7  7  7  7  7  7  7  7  8  8  8  8  8  8\n",
      "  8  8  8  8  8  8  8  8  8  8  8  8  8  8  8  8  8  8  8  8  8  8  8  8\n",
      "  9  9  9  9  9  9  9  9  9  9  9  9  9  9  9  9  9  9  9  9  9  9  9  9\n",
      "  9  9  9  9  9  9 10 10 10 10 10 10 10 10 10 10 10 10 10 10 10 10 10 10\n",
      " 10 10 10 10 10 10 10 10 10 10 10 10 11 11 11 11 11 11 11 11 11 11 11 11\n",
      " 11 11 11 11 11 11 11 11 11 11 11 11 11 11 11 11 11 11 12 12 12 12 12 12\n",
      " 12 12 12 12 12 12 12 12 12 12 12 12 12 12 12 12 12 12 12 12 12 12 12 12\n",
      " 13 13 13 13 13 13 13 13 13 13 13 13 13 13 13 13 13 13 13 13 13 13 13 13\n",
      " 13 13 13 13 13 13 14 14 14 14 14 14 14 14 14 14 14 14 14 14 14 14 14 14\n",
      " 14 14 14 14 14 14 14 14 14 14 14 14 15 15 15 15 15 15 15 15 15 15 15 15\n",
      " 15 15 15 15 15 15 15 15 15 15 15 15 15 15 15 15 15 15 16 16 16 16 16 16\n",
      " 16 16 16 16 16 16 16 16 16 16 16 16 16 16 16 16 16 16 16 16 16 16 16 16\n",
      " 17 17 17 17 17 17 17 17 17 17 17 17 17 17 17 17 17 17 17 17 17 17 17 17\n",
      " 17 17 17 17 17 17 18 18 18 18 18 18 18 18 18 18 18 18 18 18 18 18 18 18\n",
      " 18 18 18 18 18 18 18 18 18 18 18 18 19 19 19 19 19 19 19 19 19 19 19 19\n",
      " 19 19 19 19 19 19 19 19 19 19 19 19 19 19 19 19 19 19 20 20 20 20 20 20\n",
      " 20 20 20 20 20 20 20 20 20 20 20 20 20 20 20 20 20 20 20 20 20 20 20 20]\n"
     ]
    }
   ],
   "source": [
    "categories = scipy.io.loadmat(\"imagelabels.mat\")['labels'][0,:]\n",
    "index_list = []\n",
    "n_categories = 20 \n",
    "n_img = 30\n",
    "for i in range(n_categories):\n",
    "    index_list = index_list + list(np.where(categories==i+1)[0])[:n_img]\n",
    "index_list = np.array(index_list)\n",
    "print(categories[index_list])"
   ]
  },
  {
   "cell_type": "code",
   "execution_count": 49,
   "metadata": {},
   "outputs": [
    {
     "name": "stdout",
     "output_type": "stream",
     "text": [
      "Number of categories= 20\n",
      "Number of images= 600\n",
      "Number of features= 297\n",
      "\n",
      "\n"
     ]
    }
   ],
   "source": [
    "#   Parameters defintion:\n",
    "color_space='hsv'\n",
    "bins_hist=[4,4,4]\n",
    "bins_corr=[2,2,2]\n",
    "distances=[1,4]\n",
    "n_fft = 64\n",
    "hist_size_lbp=100\n",
    "\n",
    "#     First, we regroup the images features in a single 2D-Array where each line is the feature vector of the image\n",
    "X_all=[]\n",
    "for i in range(index_list.shape[0]):\n",
    "    X_all.append([])\n",
    "\n",
    "j = -1 \n",
    "for i in index_list:\n",
    "    j+= 1\n",
    "    X=read_image_4(i+1)\n",
    "    # ********************************************************* \n",
    "    # ********************color_features***********************\n",
    "    # *********************************************************\n",
    "    # Color_histogram:\n",
    "    hist= color_histogram(X,color_space,bins_hist)\n",
    "    X_all[j]=X_all[j]+[hist]\n",
    "    # Color_moments:\n",
    "    moments_ftr=moments_calcul(X,color_space)\n",
    "    X_all[j]=X_all[j]+[moments_ftr]\n",
    "    # Color_correlogram:\n",
    "    nx=X.shape[0]\n",
    "    ny=X.shape[1]\n",
    "    m=30\n",
    "    r = m / ny\n",
    "    dim = (m, int(nx * r))\n",
    "    X_resized = cv.resize(X, dim, interpolation = cv.INTER_AREA)\n",
    "    corr= color_correlogram(X_resized,color_space,bins_corr,distances)\n",
    "    X_all[j]=X_all[j]+[corr]\n",
    "\n",
    "    # *********************************************************\n",
    "    # ********************Shape_features***********************\n",
    "    # *********************************************************\n",
    "    shape_ftr=concatShapeFeatures(X,n_fft)\n",
    "    X_all[j]=X_all[j]+[shape_ftr]\n",
    "\n",
    "    # *********************************************************\n",
    "    # ********************Texture_features*********************\n",
    "    # *********************************************************\n",
    "    lbp_feature=lbp(X,hist_size_lbp)\n",
    "    X_all[j]=X_all[j]+[lbp_feature]\n",
    "\n",
    "    X_all[j]=np.concatenate(X_all[j])\n",
    "    if j in [10,50,100,200,300,400,500]:\n",
    "        print(j)\n",
    "#         print(i)\n",
    "\n",
    "X_all=np.array(X_all).astype(float)\n",
    "print(\"Number of categories= \"+ str(n_categories))\n",
    "print(\"Number of images= \"+ str(X_all.shape[0]))\n",
    "print(\"Number of features= \"+ str(X_all.shape[1]))\n",
    "print(\"\\n\")\n"
   ]
  },
  {
   "cell_type": "code",
   "execution_count": 50,
   "metadata": {},
   "outputs": [],
   "source": [
    "np.save(os.path.join(os.path.abspath(\"résultats (2ème base)\"),\"Features_matrix_2(not_scaled).npy\"), X_all)"
   ]
  },
  {
   "cell_type": "code",
   "execution_count": 51,
   "metadata": {},
   "outputs": [],
   "source": [
    "# *********************Normalization**********************\n",
    "X = StandardScaler().fit_transform(X_all)"
   ]
  },
  {
   "cell_type": "code",
   "execution_count": 52,
   "metadata": {},
   "outputs": [],
   "source": [
    "np.save(os.path.join(os.path.abspath(\"résultats (2ème base)\"),\"Features_matrix_2(scaled).npy\"), X)"
   ]
  },
  {
   "cell_type": "code",
   "execution_count": 3,
   "metadata": {},
   "outputs": [],
   "source": [
    "X = np.load(os.path.join(os.path.abspath(\"résultats (2ème base)\"),\"Features_matrix_2(scaled).npy\"))"
   ]
  },
  {
   "cell_type": "code",
   "execution_count": 53,
   "metadata": {},
   "outputs": [
    {
     "data": {
      "image/png": "[encoded data removed]",
      "text/plain": [
       "<Figure size 1080x720 with 1 Axes>"
      ]
     },
     "metadata": {
      "needs_background": "light"
     },
     "output_type": "display_data"
    }
   ],
   "source": [
    "# *********************Visualization**********************\n",
    "X_embedded = TSNE(n_components=2).fit_transform(X)\n",
    "\n",
    "plt.figure(figsize=(15,10))\n",
    "plt.scatter(X_embedded[:,0],X_embedded[:,1], s=5)\n",
    "plt.title(\"Visualization\")\n",
    "plt.show()"
   ]
  }
 ],
 "metadata": {
  "kernelspec": {
   "display_name": "Python 3",
   "language": "python",
   "name": "python3"
  },
  "language_info": {
   "codemirror_mode": {
    "name": "ipython",
    "version": 3
   },
   "file_extension": ".py",
   "mimetype": "text/x-python",
   "name": "python",
   "nbconvert_exporter": "python",
   "pygments_lexer": "ipython3",
   "version": "3.7.3"
  }
 },
 "nbformat": 4,
 "nbformat_minor": 2
}
